{
 "cells": [
  {
   "cell_type": "code",
   "execution_count": 1,
   "id": "2b333e47",
   "metadata": {
    "ExecuteTime": {
     "end_time": "2021-05-24T06:16:05.641918Z",
     "start_time": "2021-05-24T06:16:05.632923Z"
    }
   },
   "outputs": [
    {
     "name": "stdout",
     "output_type": "stream",
     "text": [
      "Hello World\n"
     ]
    }
   ],
   "source": [
    "print(\"Hello World\")"
   ]
  },
  {
   "cell_type": "code",
   "execution_count": 3,
   "id": "4c95ca70",
   "metadata": {
    "ExecuteTime": {
     "end_time": "2021-05-24T07:55:42.902758Z",
     "start_time": "2021-05-24T07:55:42.895766Z"
    }
   },
   "outputs": [
    {
     "name": "stdout",
     "output_type": "stream",
     "text": [
      "이름 :  홍길동\n",
      "이름 : 홍길동\n"
     ]
    }
   ],
   "source": [
    "name = \"홍길동\"\n",
    "print(\"이름 : \",  name)\n",
    "# print(f'이름 : {name}')"
   ]
  },
  {
   "cell_type": "code",
   "execution_count": 7,
   "id": "b456231e",
   "metadata": {
    "ExecuteTime": {
     "end_time": "2021-05-24T08:09:43.375506Z",
     "start_time": "2021-05-24T08:09:43.358503Z"
    }
   },
   "outputs": [
    {
     "name": "stdout",
     "output_type": "stream",
     "text": [
      "['False', 'None', 'True', 'and', 'as', 'assert', 'async', 'await', 'break', 'class', 'continue', 'def', 'del', 'elif', 'else', 'except', 'finally', 'for', 'from', 'global', 'if', 'import', 'in', 'is', 'lambda', 'nonlocal', 'not', 'or', 'pass', 'raise', 'return', 'try', 'while', 'with', 'yield']\n"
     ]
    }
   ],
   "source": [
    "import keyword\n",
    "print(keyword.kwlist)"
   ]
  },
  {
   "cell_type": "code",
   "execution_count": 8,
   "id": "61e81585",
   "metadata": {
    "ExecuteTime": {
     "end_time": "2021-05-24T08:27:50.617843Z",
     "start_time": "2021-05-24T08:27:50.603849Z"
    }
   },
   "outputs": [
    {
     "data": {
      "text/plain": [
       "14"
      ]
     },
     "execution_count": 8,
     "metadata": {},
     "output_type": "execute_result"
    }
   ],
   "source": [
    "4+10"
   ]
  },
  {
   "cell_type": "code",
   "execution_count": 9,
   "id": "7052353d",
   "metadata": {
    "ExecuteTime": {
     "end_time": "2021-05-24T08:27:56.032462Z",
     "start_time": "2021-05-24T08:27:56.026466Z"
    }
   },
   "outputs": [
    {
     "data": {
      "text/plain": [
       "-6"
      ]
     },
     "execution_count": 9,
     "metadata": {},
     "output_type": "execute_result"
    }
   ],
   "source": [
    "4-10"
   ]
  },
  {
   "cell_type": "code",
   "execution_count": 10,
   "id": "eacc0cc4",
   "metadata": {
    "ExecuteTime": {
     "end_time": "2021-05-24T08:28:00.436446Z",
     "start_time": "2021-05-24T08:28:00.428471Z"
    }
   },
   "outputs": [
    {
     "data": {
      "text/plain": [
       "40"
      ]
     },
     "execution_count": 10,
     "metadata": {},
     "output_type": "execute_result"
    }
   ],
   "source": [
    "4*10"
   ]
  },
  {
   "cell_type": "code",
   "execution_count": 11,
   "id": "a7a31b08",
   "metadata": {
    "ExecuteTime": {
     "end_time": "2021-05-24T08:28:06.790469Z",
     "start_time": "2021-05-24T08:28:06.781474Z"
    }
   },
   "outputs": [
    {
     "data": {
      "text/plain": [
       "16"
      ]
     },
     "execution_count": 11,
     "metadata": {},
     "output_type": "execute_result"
    }
   ],
   "source": [
    "4**2"
   ]
  },
  {
   "cell_type": "code",
   "execution_count": 12,
   "id": "bbd764b7",
   "metadata": {
    "ExecuteTime": {
     "end_time": "2021-05-24T08:28:19.265384Z",
     "start_time": "2021-05-24T08:28:19.246381Z"
    }
   },
   "outputs": [
    {
     "data": {
      "text/plain": [
       "2.0"
      ]
     },
     "execution_count": 12,
     "metadata": {},
     "output_type": "execute_result"
    }
   ],
   "source": [
    "4**0.5\n"
   ]
  },
  {
   "cell_type": "code",
   "execution_count": 13,
   "id": "f6e4c985",
   "metadata": {
    "ExecuteTime": {
     "end_time": "2021-05-24T08:28:27.171792Z",
     "start_time": "2021-05-24T08:28:27.161783Z"
    }
   },
   "outputs": [
    {
     "data": {
      "text/plain": [
       "0.5"
      ]
     },
     "execution_count": 13,
     "metadata": {},
     "output_type": "execute_result"
    }
   ],
   "source": [
    "3/6"
   ]
  },
  {
   "cell_type": "code",
   "execution_count": 14,
   "id": "a0c574de",
   "metadata": {
    "ExecuteTime": {
     "end_time": "2021-05-24T08:28:37.604003Z",
     "start_time": "2021-05-24T08:28:37.598025Z"
    }
   },
   "outputs": [
    {
     "data": {
      "text/plain": [
       "1"
      ]
     },
     "execution_count": 14,
     "metadata": {},
     "output_type": "execute_result"
    }
   ],
   "source": [
    "10%9"
   ]
  },
  {
   "cell_type": "code",
   "execution_count": 18,
   "id": "2b53350d",
   "metadata": {
    "ExecuteTime": {
     "end_time": "2021-05-24T08:29:31.711412Z",
     "start_time": "2021-05-24T08:29:31.694381Z"
    }
   },
   "outputs": [
    {
     "data": {
      "text/plain": [
       "3"
      ]
     },
     "execution_count": 18,
     "metadata": {},
     "output_type": "execute_result"
    }
   ],
   "source": [
    "31//9"
   ]
  },
  {
   "cell_type": "code",
   "execution_count": 19,
   "id": "7d7b16bd",
   "metadata": {
    "ExecuteTime": {
     "end_time": "2021-05-24T08:29:54.500733Z",
     "start_time": "2021-05-24T08:29:54.484743Z"
    }
   },
   "outputs": [
    {
     "data": {
      "text/plain": [
       "0"
      ]
     },
     "execution_count": 19,
     "metadata": {},
     "output_type": "execute_result"
    }
   ],
   "source": [
    "3>>2"
   ]
  },
  {
   "cell_type": "code",
   "execution_count": 20,
   "id": "29e605cf",
   "metadata": {
    "ExecuteTime": {
     "end_time": "2021-05-24T08:30:00.658241Z",
     "start_time": "2021-05-24T08:30:00.642739Z"
    }
   },
   "outputs": [
    {
     "data": {
      "text/plain": [
       "12"
      ]
     },
     "execution_count": 20,
     "metadata": {},
     "output_type": "execute_result"
    }
   ],
   "source": [
    "3<<2"
   ]
  },
  {
   "cell_type": "code",
   "execution_count": 21,
   "id": "6999f306",
   "metadata": {
    "ExecuteTime": {
     "end_time": "2021-05-24T08:32:35.995423Z",
     "start_time": "2021-05-24T08:32:35.976434Z"
    }
   },
   "outputs": [
    {
     "ename": "TypeError",
     "evalue": "can only concatenate str (not \"int\") to str",
     "output_type": "error",
     "traceback": [
      "\u001b[1;31m---------------------------------------------------------------------------\u001b[0m",
      "\u001b[1;31mTypeError\u001b[0m                                 Traceback (most recent call last)",
      "\u001b[1;32m<ipython-input-21-1e339f59d7ef>\u001b[0m in \u001b[0;36m<module>\u001b[1;34m\u001b[0m\n\u001b[0;32m      2\u001b[0m \u001b[0mmy_height\u001b[0m \u001b[1;33m=\u001b[0m \u001b[1;34m'177'\u001b[0m\u001b[1;33m\u001b[0m\u001b[1;33m\u001b[0m\u001b[0m\n\u001b[0;32m      3\u001b[0m \u001b[0mmy_age\u001b[0m \u001b[1;33m=\u001b[0m \u001b[0mmy_age\u001b[0m \u001b[1;33m+\u001b[0m \u001b[1;36m1\u001b[0m\u001b[1;33m\u001b[0m\u001b[1;33m\u001b[0m\u001b[0m\n\u001b[1;32m----> 4\u001b[1;33m \u001b[0mmy_height\u001b[0m \u001b[1;33m=\u001b[0m \u001b[0mmy_height\u001b[0m \u001b[1;33m+\u001b[0m \u001b[1;36m1\u001b[0m\u001b[1;33m\u001b[0m\u001b[1;33m\u001b[0m\u001b[0m\n\u001b[0m\u001b[0;32m      5\u001b[0m \u001b[0mprint\u001b[0m\u001b[1;33m(\u001b[0m\u001b[0mmy_age\u001b[0m\u001b[1;33m,\u001b[0m \u001b[0mmy_height\u001b[0m\u001b[1;33m)\u001b[0m\u001b[1;33m\u001b[0m\u001b[1;33m\u001b[0m\u001b[0m\n",
      "\u001b[1;31mTypeError\u001b[0m: can only concatenate str (not \"int\") to str"
     ]
    }
   ],
   "source": [
    "my_age = 22\n",
    "my_height = '177'\n",
    "my_age = my_age + 1\n",
    "my_height = my_height + 1\n",
    "print(my_age, my_height)"
   ]
  },
  {
   "cell_type": "code",
   "execution_count": null,
   "id": "a4c357bb",
   "metadata": {},
   "outputs": [],
   "source": []
  }
 ],
 "metadata": {
  "hide_input": false,
  "kernelspec": {
   "display_name": "Python 3",
   "language": "python",
   "name": "python3"
  },
  "language_info": {
   "codemirror_mode": {
    "name": "ipython",
    "version": 3
   },
   "file_extension": ".py",
   "mimetype": "text/x-python",
   "name": "python",
   "nbconvert_exporter": "python",
   "pygments_lexer": "ipython3",
   "version": "3.7.9"
  },
  "toc": {
   "base_numbering": 1,
   "nav_menu": {},
   "number_sections": true,
   "sideBar": true,
   "skip_h1_title": false,
   "title_cell": "Table of Contents",
   "title_sidebar": "Contents",
   "toc_cell": false,
   "toc_position": {},
   "toc_section_display": true,
   "toc_window_display": true
  },
  "varInspector": {
   "cols": {
    "lenName": 16,
    "lenType": 16,
    "lenVar": 40
   },
   "kernels_config": {
    "python": {
     "delete_cmd_postfix": "",
     "delete_cmd_prefix": "del ",
     "library": "var_list.py",
     "varRefreshCmd": "print(var_dic_list())"
    },
    "r": {
     "delete_cmd_postfix": ") ",
     "delete_cmd_prefix": "rm(",
     "library": "var_list.r",
     "varRefreshCmd": "cat(var_dic_list()) "
    }
   },
   "types_to_exclude": [
    "module",
    "function",
    "builtin_function_or_method",
    "instance",
    "_Feature"
   ],
   "window_display": false
  }
 },
 "nbformat": 4,
 "nbformat_minor": 5
}
